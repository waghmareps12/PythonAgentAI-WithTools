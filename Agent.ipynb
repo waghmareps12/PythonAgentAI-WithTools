{
 "cells": [
  {
   "cell_type": "code",
   "execution_count": 15,
   "metadata": {},
   "outputs": [
    {
     "data": {
      "text/plain": [
       "True"
      ]
     },
     "execution_count": 15,
     "metadata": {},
     "output_type": "execute_result"
    }
   ],
   "source": [
    "from dotenv import load_dotenv\n",
    "import os\n",
    "import pandas as pd\n",
    "from llama_index.experimental.query_engine import PandasQueryEngine\n",
    "from prompts import new_prompt, instruction_str, context\n",
    "from note_engine import note_engine\n",
    "from llama_index.core.tools import QueryEngineTool, ToolMetadata\n",
    "from llama_index.core.agent import ReActAgent\n",
    "from llama_index.llms.openai import OpenAI\n",
    "from pdf import canada_engine\n",
    "\n",
    "load_dotenv()"
   ]
  },
  {
   "cell_type": "code",
   "execution_count": 16,
   "metadata": {},
   "outputs": [],
   "source": [
    "population_path = os.path.join(\"data\", \"population.csv\")\n",
    "population_df = pd.read_csv(population_path)\n",
    "\n",
    "population_query_engine = PandasQueryEngine(\n",
    "    df=population_df, verbose=True, instruction_str=instruction_str\n",
    ")\n",
    "population_query_engine.update_prompts({\"pandas_prompt\": new_prompt})\n",
    "\n",
    "tools = [\n",
    "    note_engine,\n",
    "    QueryEngineTool(\n",
    "        query_engine=population_query_engine,\n",
    "        metadata=ToolMetadata(\n",
    "            name=\"population_data\",\n",
    "            description=\"this gives information at the world population and demographics\",\n",
    "        ),\n",
    "    ),\n",
    "    QueryEngineTool(\n",
    "        query_engine=canada_engine,\n",
    "        metadata=ToolMetadata(\n",
    "            name=\"canada_data\",\n",
    "            description=\"this gives detailed information about canada the country\",\n",
    "        ),\n",
    "    ),\n",
    "]"
   ]
  },
  {
   "cell_type": "code",
   "execution_count": 14,
   "metadata": {},
   "outputs": [
    {
     "name": "stdout",
     "output_type": "stream",
     "text": [
      "> Running step 1ea0fafa-2975-4f29-995b-cc831127ea4d. Step input: what is the population if India\n",
      "\u001b[1;3;38;5;200mThought: The current language of the user is: English. I need to use a tool to help me answer the question.\n",
      "Action: population_data\n",
      "Action Input: {'input': 'India'}\n",
      "\u001b[0m> Pandas Instructions:\n",
      "```\n",
      "df[df['Country'] == 'India']\n",
      "```\n",
      "> Pandas Output:     Rank Country  Population2023 YearlyChange  NetChange  Density(P/Km²)  \\\n",
      "95     1   India      1428627663       0.81 %   11454490             481   \n",
      "\n",
      "    Land Area(Km²)  Migrants(net)  Fert.Rate  MedianAge UrbanPop% WorldShare  \n",
      "95         2973190        -486136        2.0       28.0      36 %    17.76 %  \n",
      "\u001b[1;3;34mObservation:     Rank Country  Population2023 YearlyChange  NetChange  Density(P/Km²)  \\\n",
      "95     1   India      1428627663       0.81 %   11454490             481   \n",
      "\n",
      "    Land Area(Km²)  Migrants(net)  Fert.Rate  MedianAge UrbanPop% WorldShare  \n",
      "95         2973190        -486136        2.0       28.0      36 %    17.76 %  \n",
      "\u001b[0m> Running step 50a2d571-e5c6-411c-95f3-478500e65c81. Step input: None\n",
      "\u001b[1;3;38;5;200mThought: I can answer without using any more tools. I'll use the user's language to answer.\n",
      "Answer: The population of India in 2023 is approximately 1,428,627,663.\n",
      "\u001b[0mThe population of India in 2023 is approximately 1,428,627,663.\n"
     ]
    }
   ],
   "source": [
    "llm = OpenAI(model=\"gpt-4o-mini\")\n",
    "agent = ReActAgent.from_tools(tools, llm=llm, verbose=True, context=context)\n",
    "\n",
    "while (prompt := input(\"Enter a prompt (q to quit): \")) != \"q\":\n",
    "    result = agent.query(prompt)\n",
    "    print(result)\n"
   ]
  },
  {
   "cell_type": "code",
   "execution_count": null,
   "metadata": {},
   "outputs": [],
   "source": []
  }
 ],
 "metadata": {
  "kernelspec": {
   "display_name": "Python 3",
   "language": "python",
   "name": "python3"
  },
  "language_info": {
   "codemirror_mode": {
    "name": "ipython",
    "version": 3
   },
   "file_extension": ".py",
   "mimetype": "text/x-python",
   "name": "python",
   "nbconvert_exporter": "python",
   "pygments_lexer": "ipython3",
   "version": "3.12.4"
  }
 },
 "nbformat": 4,
 "nbformat_minor": 2
}
